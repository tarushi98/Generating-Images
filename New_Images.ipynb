{
  "nbformat": 4,
  "nbformat_minor": 0,
  "metadata": {
    "colab": {
      "name": "New Images",
      "provenance": []
    },
    "kernelspec": {
      "name": "python3",
      "display_name": "Python 3"
    }
  },
  "cells": [
    {
      "cell_type": "code",
      "metadata": {
        "id": "Ez6SrvazIOpp",
        "colab_type": "code",
        "colab": {}
      },
      "source": [
        "import numpy as np\n",
        "import pandas as pd\n",
        "import matplotlib.pyplot as plt\n",
        "import PIL\n",
        "import os \n",
        "import tensorflow as tf\n",
        "from keras.preprocessing.image import ImageDataGenerator, array_to_img, img_to_array, load_img"
      ],
      "execution_count": null,
      "outputs": []
    },
    {
      "cell_type": "code",
      "metadata": {
        "id": "HnSYk_NJITDx",
        "colab_type": "code",
        "colab": {
          "base_uri": "https://localhost:8080/",
          "height": 34
        },
        "outputId": "241dfd53-2683-46fc-eda4-28b74ce5b601"
      },
      "source": [
        "from google.colab import drive\n",
        "drive.mount('/content/drive')"
      ],
      "execution_count": null,
      "outputs": [
        {
          "output_type": "stream",
          "text": [
            "Drive already mounted at /content/drive; to attempt to forcibly remount, call drive.mount(\"/content/drive\", force_remount=True).\n"
          ],
          "name": "stdout"
        }
      ]
    },
    {
      "cell_type": "code",
      "metadata": {
        "id": "0Z49UINWKd1U",
        "colab_type": "code",
        "colab": {}
      },
      "source": [
        "def get_images_path(PATH):\n",
        "  image_path=os.listdir(PATH)\n",
        "  return image_path"
      ],
      "execution_count": null,
      "outputs": []
    },
    {
      "cell_type": "code",
      "metadata": {
        "id": "xW9xKu1gIVQI",
        "colab_type": "code",
        "colab": {}
      },
      "source": [
        "train_path=r'/content/drive/My Drive/Images/train'\n",
        "test_path=r'/content/drive/My Drive/Images/test'\n",
        "img_train_path=os.listdir(train_path)\n",
        "img_test_path=os.listdir(test_path)"
      ],
      "execution_count": null,
      "outputs": []
    },
    {
      "cell_type": "code",
      "metadata": {
        "id": "w7IXzzt8Kmoh",
        "colab_type": "code",
        "colab": {}
      },
      "source": [
        "image_train_path=[]\n",
        "image_test_path=[]\n",
        "for i in img_train_path:\n",
        "  image_train_path.append(train_path+'/'+i)\n",
        "for i in img_test_path:\n",
        "  image_test_path.append(test_path+'/'+i)\n"
      ],
      "execution_count": null,
      "outputs": []
    },
    {
      "cell_type": "code",
      "metadata": {
        "id": "PVF98BYVQoWU",
        "colab_type": "code",
        "colab": {
          "base_uri": "https://localhost:8080/",
          "height": 52
        },
        "outputId": "f0ecf5d7-09a1-416b-fe25-8dd8bcda15c5"
      },
      "source": [
        "image_test_path[:2]"
      ],
      "execution_count": null,
      "outputs": [
        {
          "output_type": "execute_result",
          "data": {
            "text/plain": [
              "['/content/drive/My Drive/Images/test/6061-Aluminum.jpg',\n",
              " '/content/drive/My Drive/Images/test/slide12.jpg']"
            ]
          },
          "metadata": {
            "tags": []
          },
          "execution_count": 32
        }
      ]
    },
    {
      "cell_type": "code",
      "metadata": {
        "id": "1ey1kH8uJbAu",
        "colab_type": "code",
        "colab": {}
      },
      "source": [
        "datagen = ImageDataGenerator(\n",
        "        rotation_range=40,\n",
        "        width_shift_range=0.2,\n",
        "        height_shift_range=0.2,\n",
        "        shear_range=0.2,\n",
        "        zoom_range=0.2,\n",
        "        horizontal_flip=True,\n",
        "        vertical_flip=True,\n",
        "        fill_mode='nearest')\n"
      ],
      "execution_count": null,
      "outputs": []
    },
    {
      "cell_type": "code",
      "metadata": {
        "id": "CaPvSktQag4k",
        "colab_type": "code",
        "colab": {}
      },
      "source": [
        "def new_img(img,new_dir):\n",
        "   z=0\n",
        "   for batch in datagen.flow(img, batch_size=1,save_to_dir=new_dir, save_prefix= 'microstructure', save_format='jpeg'):\n",
        "        z+=1\n",
        "        if(z>200):\n",
        "          break"
      ],
      "execution_count": null,
      "outputs": []
    },
    {
      "cell_type": "code",
      "metadata": {
        "id": "u2N1LMI_JlKv",
        "colab_type": "code",
        "colab": {}
      },
      "source": [
        "def create_new_images(img_path,new_dir):\n",
        "  for i in img_path:\n",
        "      img = load_img(i)  # this is a PIL image\n",
        "      x = img_to_array(img)  # this is a Numpy array with shape (3, 150, 150)\n",
        "      x= x.reshape((1,)+x.shape)\n",
        "      new_img(x,new_dir)\n",
        "  return(len(os.listdir(new_dir)))"
      ],
      "execution_count": null,
      "outputs": []
    },
    {
      "cell_type": "code",
      "metadata": {
        "id": "FdgUEVkaLjCa",
        "colab_type": "code",
        "colab": {}
      },
      "source": [
        "new_train_dir=r'/content/drive/My Drive/Images/new_train'\n",
        "new_test_dir=r'/content/drive/My Drive/Images/new_test'"
      ],
      "execution_count": null,
      "outputs": []
    },
    {
      "cell_type": "code",
      "metadata": {
        "id": "oz8b1OCkRFeV",
        "colab_type": "code",
        "colab": {
          "base_uri": "https://localhost:8080/",
          "height": 34
        },
        "outputId": "94b46003-8818-4dd5-b4d3-84b83b40cc94"
      },
      "source": [
        "create_new_images(image_train_path,new_train_dir)"
      ],
      "execution_count": null,
      "outputs": [
        {
          "output_type": "execute_result",
          "data": {
            "text/plain": [
              "5134"
            ]
          },
          "metadata": {
            "tags": []
          },
          "execution_count": 36
        }
      ]
    },
    {
      "cell_type": "code",
      "metadata": {
        "id": "K31DcX3sSoNI",
        "colab_type": "code",
        "colab": {
          "base_uri": "https://localhost:8080/",
          "height": 34
        },
        "outputId": "94e9fdfd-b78d-49ee-a0fa-26cfe1a0a5c2"
      },
      "source": [
        "create_new_images(image_test_path,new_test_dir)\n"
      ],
      "execution_count": null,
      "outputs": [
        {
          "output_type": "execute_result",
          "data": {
            "text/plain": [
              "3446"
            ]
          },
          "metadata": {
            "tags": []
          },
          "execution_count": 37
        }
      ]
    }
  ]
}